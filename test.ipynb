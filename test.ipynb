{
 "cells": [
  {
   "cell_type": "code",
   "execution_count": 3,
   "metadata": {},
   "outputs": [
    {
     "data": {
      "text/plain": [
       "True"
      ]
     },
     "execution_count": 3,
     "metadata": {},
     "output_type": "execute_result"
    }
   ],
   "source": [
    "figuren = {0:-100,10:14,21:13,22:17,33:28}\n",
    "any(i in {k: v for k, v in figuren.items() if k//10 == 2}.values() for i in range(40))"
   ]
  },
  {
   "cell_type": "code",
   "execution_count": 19,
   "metadata": {},
   "outputs": [
    {
     "data": {
      "text/plain": [
       "[-100, 4, 33, 37, 38]"
      ]
     },
     "execution_count": 19,
     "metadata": {},
     "output_type": "execute_result"
    }
   ],
   "source": [
    "def rel_pos(figur):\n",
    "        if figuren[figur] == -100:\n",
    "            return -100\n",
    "        else:\n",
    "            pos = figuren[figur] - figur//10*10\n",
    "            if pos < 0 and pos > -100:\n",
    "                pos += 40\n",
    "            return pos\n",
    "\n",
    "[rel_pos(i) for i in figuren.keys()]"
   ]
  },
  {
   "cell_type": "code",
   "execution_count": 3,
   "metadata": {},
   "outputs": [
    {
     "data": {
      "text/plain": [
       "21"
      ]
     },
     "execution_count": 3,
     "metadata": {},
     "output_type": "execute_result"
    }
   ],
   "source": [
    "list(figuren.keys())[list(figuren.values()).index(13)]"
   ]
  },
  {
   "cell_type": "code",
   "execution_count": 9,
   "metadata": {},
   "outputs": [
    {
     "name": "stdout",
     "output_type": "stream",
     "text": [
      "True\n",
      "{0: -100, 10: 29, 21: 13, 22: 17, 33: -100}\n"
     ]
    }
   ],
   "source": [
    "figuren = {0:-100,10:14,21:13,22:17,33:29}\n",
    "\n",
    "def rausschmeissen(angreifer, opfer):\n",
    "    if angreifer//10 == opfer//10:\n",
    "        return False\n",
    "    else:\n",
    "        figuren[angreifer] = figuren[opfer]\n",
    "        figuren[opfer] = -100\n",
    "        return True\n",
    "\n",
    "print(rausschmeissen(10,33))\n",
    "print(figuren)\n"
   ]
  },
  {
   "cell_type": "code",
   "execution_count": 23,
   "metadata": {},
   "outputs": [
    {
     "name": "stdout",
     "output_type": "stream",
     "text": [
      "[70]\n",
      "True\n",
      "{0: -100, 10: 14, 21: 13, 22: 17, 33: 70, 34: 73}\n"
     ]
    }
   ],
   "source": [
    "figuren = {0:-100,10:14,21:13,22:17,33:28, 34:73}\n",
    "\n",
    "def zieleinlauf(figur, augenzahl):\n",
    "    # zielposition\n",
    "    # rel_pos(figur) + augenzahl + figur//10*10\n",
    "    # erstes zielfeld\n",
    "    # figur//10*10+40\n",
    "\n",
    "    liste = [i for i in range(figur//10*10+40,rel_pos(figur) + augenzahl + figur//10*10+1)]\n",
    "    print(liste)\n",
    "\n",
    "    if any(i in figuren.values() for i in range(figur//10*10+40,rel_pos(figur) + augenzahl + figur//10*10+1)):\n",
    "        return False\n",
    "    else:\n",
    "        figuren[figur] = rel_pos(figur) + augenzahl + figur//10*10\n",
    "        return True\n",
    "\n",
    "print(zieleinlauf(33,2))\n",
    "print(figuren)\n"
   ]
  },
  {
   "cell_type": "code",
   "execution_count": 70,
   "metadata": {},
   "outputs": [
    {
     "data": {
      "text/plain": [
       "True"
      ]
     },
     "execution_count": 70,
     "metadata": {},
     "output_type": "execute_result"
    }
   ],
   "source": [
    "figuren = {10:14, 21:13, 22:17, 32:70, 34:73}\n",
    "\n",
    "aktiver_spieler = 3\n",
    "\n",
    "zielfelder = {k: v for k, v in figuren.items() if k//10 == aktiver_spieler and v >= aktiver_spieler*10+40}.values()\n",
    "\n",
    "feld = True\n",
    "\n",
    "ziel = len(range(min(zielfelder), aktiver_spieler*10+44)) != len(zielfelder)\n",
    "\n",
    "feld and ziel\n"
   ]
  },
  {
   "cell_type": "code",
   "execution_count": 71,
   "metadata": {},
   "outputs": [
    {
     "data": {
      "text/plain": [
       "{0: 0, 1: 0, 2: 0, 3: 2}"
      ]
     },
     "execution_count": 71,
     "metadata": {},
     "output_type": "execute_result"
    }
   ],
   "source": [
    "{spieler: len({k: v for k, v in figuren.items() if k//10 == spieler and v >= spieler*10+40}) for spieler in range(4)}"
   ]
  },
  {
   "cell_type": "code",
   "execution_count": 69,
   "metadata": {},
   "outputs": [
    {
     "ename": "ValueError",
     "evalue": "0 is not in list",
     "output_type": "error",
     "traceback": [
      "\u001b[0;31m---------------------------------------------------------------------------\u001b[0m",
      "\u001b[0;31mValueError\u001b[0m                                Traceback (most recent call last)",
      "\u001b[0;32m/var/folders/0h/kgyn213d16z5mjpyfwj9rc9c0000gn/T/ipykernel_61846/4248486290.py\u001b[0m in \u001b[0;36m<module>\u001b[0;34m\u001b[0m\n\u001b[0;32m----> 1\u001b[0;31m \u001b[0mlist\u001b[0m\u001b[0;34m(\u001b[0m\u001b[0mfiguren\u001b[0m\u001b[0;34m.\u001b[0m\u001b[0mkeys\u001b[0m\u001b[0;34m(\u001b[0m\u001b[0;34m)\u001b[0m\u001b[0;34m)\u001b[0m\u001b[0;34m[\u001b[0m\u001b[0mlist\u001b[0m\u001b[0;34m(\u001b[0m\u001b[0mfiguren\u001b[0m\u001b[0;34m.\u001b[0m\u001b[0mvalues\u001b[0m\u001b[0;34m(\u001b[0m\u001b[0;34m)\u001b[0m\u001b[0;34m)\u001b[0m\u001b[0;34m.\u001b[0m\u001b[0mindex\u001b[0m\u001b[0;34m(\u001b[0m\u001b[0;36m0\u001b[0m\u001b[0;34m)\u001b[0m\u001b[0;34m]\u001b[0m\u001b[0;34m\u001b[0m\u001b[0;34m\u001b[0m\u001b[0m\n\u001b[0m",
      "\u001b[0;31mValueError\u001b[0m: 0 is not in list"
     ]
    }
   ],
   "source": [
    "list({k: v for k, v in self.figuren.items() if k//10 == spieler and v == -100}.keys())[0]"
   ]
  },
  {
   "cell_type": "code",
   "execution_count": null,
   "metadata": {},
   "outputs": [],
   "source": []
  }
 ],
 "metadata": {
  "interpreter": {
   "hash": "8837420eeb80ed5d4fffcbaeafac73cae7a15fc1a83041d05c9a3f5926e0afe5"
  },
  "kernelspec": {
   "display_name": "Python 3.7.11 64-bit ('base': conda)",
   "language": "python",
   "name": "python3"
  },
  "language_info": {
   "codemirror_mode": {
    "name": "ipython",
    "version": 3
   },
   "file_extension": ".py",
   "mimetype": "text/x-python",
   "name": "python",
   "nbconvert_exporter": "python",
   "pygments_lexer": "ipython3",
   "version": "3.9.7"
  },
  "orig_nbformat": 4
 },
 "nbformat": 4,
 "nbformat_minor": 2
}
